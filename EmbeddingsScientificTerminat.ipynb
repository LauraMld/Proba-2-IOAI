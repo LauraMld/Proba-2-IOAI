{
  "nbformat": 4,
  "nbformat_minor": 0,
  "metadata": {
    "colab": {
      "provenance": []
    },
    "kernelspec": {
      "name": "python3",
      "display_name": "Python 3"
    },
    "language_info": {
      "name": "python"
    }
  },
  "cells": [
    {
      "cell_type": "markdown",
      "source": [
        "# Word Vectors Gone Wrong: Fixing Gender Stereotypes in Language Models\n",
        "\n",
        "## Problem Description\n",
        "\n",
        "Language models process words as arrays of numbers, called word vectors (or word embeddings). These vectors are created based on the usage of the words in context, so they capture the distributional properties of words. Word vectors can be conceptualized as unique coordinates in a multi-dimensional space, with the distance between them capturing the semantic and syntactic relations between words.\n",
        "\n",
        "In a seminal [article](https://aclanthology.org/P16-1158/) Ekaterina Vylomova and colleagues show that word vectors trained on English data exhibit a curious property: the spatial difference between the vectors of 'king' and 'queen' is the same as the difference between the vectors of 'man' and 'woman'. This difference essentially captures **gender**. Similarly, the difference between 'king' and 'man' is the same as that between 'queen' and 'woman', capturing the notion of royalty.\n",
        "\n",
        "The way gender is reflected in word vectors has received special attention in NLP, because while sometimes word vectors capture true gender roles (e.g. a king is by definition male), other times they capture undesirable societal biases, e.g. they place 'engineer' and 'man' in the same relationship as 'housekeeper' and 'woman'. This does not seem fair, given that professions such as engineer or housekeeper should be non-gender specific.\n",
        "\n",
        "We don't want to have models that promote stereotypes about which jobs are suitable for men or women, so we should find a way to fix this problem. The tasks presented in this notebook will guide you to one possible solution.\n",
        "\n",
        "## Technical Specifications\n",
        "\n",
        "All team solutions should be submitted as a modified and compiled copy of this base notebook. You also need to provide a file of the word vectors you created.\n",
        "\n",
        "The notebook contains specific tasks you need to accomplish and provides code when necessary. Some cells, marked with the `###DO NOT CHANGE THIS CELL###` comment, have to remain as they are. Other cells can be changed, especially the ones saying `###YOUR CODE GOES HERE###` should be changed to complete the tasks.\n",
        "\n",
        "\n",
        "Your goal is to get familiar with word vectors and the problem of bias which is a common issue in Artificial Intelligence applications.\n",
        "\n",
        "## Resources\n",
        "\n",
        "You can read more on gender bias in word vectors in the paper [Man is to Computer Programmer as Woman is to Homemaker? Debiasing Word Embeddings](https://proceedings.neurips.cc/paper_files/paper/2016/file/a486cd07e4ac3d270571622f4f316ec5-Paper.pdf) by Tolga Bolukbasi, Kai-Wei Chang, James Zou, Venkatesh Saligrama, and Adam Kalai. Proceedings of NIPS 2016.\n",
        "\n",
        "There are some articles/tutorials online that explain the main concepts of the paper (neutralization and equalization of word vectors) such as [Debiasing Word Embeddings with Geometry](https://medium.com/@mihird97/debiasing-word-embeddings-with-geometry-d2c471ab4ae6).\n",
        "\n",
        "\n"
      ],
      "metadata": {
        "id": "6H0w6XUXcrJk"
      }
    },
    {
      "cell_type": "markdown",
      "source": [
        "\n",
        "## Task 1: Get familiar with word vectors\n",
        "\n",
        "To get familiar with word vectors you can visualize each word as a unique coordinate in a multi-dimensional space, and the distance and direction between them reveal the linguistic connections. For this task You are given some synthetic word vectors as points in a coordinate space (x, y).\n",
        "\n",
        "🎯 The goal is to move the biased points (cleaning, driving) in the graph so that the bias of the vectors is neutralized. Make a graph with as little changes as possible.\n",
        "\n",
        "Deliverables: A new graph where the non-gender specific words, 'cleaning' and 'driving', are equally distant to 'mother' and 'father'."
      ],
      "metadata": {
        "id": "1uoi_GPiT5XR"
      }
    },
    {
      "cell_type": "markdown",
      "source": [
        "**Answer 1**\n",
        "\n",
        "Your answer goes here.\n"
      ],
      "metadata": {
        "id": "zM4aN_0HkEXq"
      }
    },
    {
      "cell_type": "markdown",
      "source": [
        "![Screenshot from 2024-07-09 10-15-48.png](data:image/png;base64,iVBORw0KGgoAAAANSUhEUgAAAf0AAAH7CAYAAADGlUaVAAAABHNCSVQICAgIfAhkiAAAABl0RVh0U29mdHdhcmUAZ25vbWUtc2NyZWVuc2hvdO8Dvz4AAAArdEVYdENyZWF0aW9uIFRpbWUATWEgMDkgaXVsIDIwMjQgMTA6MTU6NDggKzAzMDDHdzU6AAAgAElEQVR4nO3de3RU5b3/8XcgCEgRMIBIAyRSRSVc5CKoaLxQUWqo4BUh2BqtPUesdslP67GlN2ux1tbjwVap0bZ4SkGuAVFQC2kV8IL2KCBJFIOAIqJBA3JN5vfHOMnkMmGSmdm37+e1VtYiMzs7z4dnhyff/cx8SQuFQiESUFxcTG5ubiKn8AUrOcFOVis509LSSPDH3DeszKmVnGAnq1M5W6X8O4iIiIgnaNEXERExIuFFPysrKwnD8D4rOcFOVis5LbEyp1Zygp2sTuVMS3RPX0S8zdKevog0Tbf3RUREjNCiLyIiYkTCi/7WrVuTMQ7Ps5IT7GS1ktMSK3NqJSfYyepUzoQX/fLy8iQMw/us5AQ7Wa3ktMTKnFrJCXayOpVTt/dFRESM0KIvIiJihBZ9ERERI9ScJ05WcoKdrFZyWmJlTq3kBDtZ1ZxHRJJCzXlEJEK390VERIzQoi8iImKEmvPEyUpOsJPVrzmrq6s588wzycrKok+fPkybNk2377/i1zltLis5wU5WNefxGCs5wU5Wv+Zs1aoVRUVFlJeXU1JSwpo1a1ixYoXbw/IEv85pc1nJCXayqjmPiMTUo0cPIFz1V1dXuzwaEfELLfoiPtW/f38yMjIYMGAAY8aMcXs4IuID6RDeS6h/ayGyXxgR65hoiZzH68cAFBcXe2Y8qTwmmpPjKS8vb7CvpTlteEx6ejqDBw9m48aN7NmzhwkTJvDKK68wcuTIRs9Tn1dzJeMYcG9Os7Oz6d27d7PO09JrPi0trc7nXpyLIMypk8c4NacJv09/69atdb5BUFnJCXayBiXn/fffT2VlJffee2+jz1t6n35Q5vRorOQEO1mdyqnmPCI+s2vXLvbv30+fPn3Ys2cPY8eO5ZZbbmHSpEmNHm9p0ReRpqW7PQARaZ49e/Zw5ZVXsnv3btq0acOkSZO47rrr3B6WiPiAKn2RgFOlLyIRas4TJys5wU5WKzktsTKnVnKCnaxqzuMxVnKCnaxWclpiZU6t5AQ7WdWcR0RERJJKi76IiIgRWvRFRESMSHjRr9/BLais5AQ7Wa3ktMTKnFrJCXayOpVTb9kTCTi9ZU9EInR7X0RExAgt+iIiIkaoOU+crOQEO1mt5LTEypxayQl2sqo5j8dYyQl2slrJaYmVObWSE+xkVXMeERERSSot+iIiIkZo0RcRETFCzXniZCUn2MlqJaclVubUSk6wk1XNeUQkKdScR0QidHtfRETECC36IiIiRqg5T5ys5AQ7Wa3ktMTKnFrJCXayqjmPx1jJCXayWslpiZU5tZIT7GRVcx4RERFJKi36IiIiRmjRFxERMULNeeJkJSfYyWolpyVW5tRKTrCTVc15RCQp1JxHRCJ0e19ERMQILfoiIiJGqDlPnKzkBDtZreS0xMqcWskJdrKqOY/HWMkJdrJayWmJlTm1khPsZFVzHhEREUkqLfoiIiJGaNEXERExQs154mQlJ9jJaiWnJVbm1EpOsJNVzXlEJCmS3ZznoYegTx8YP77p4158EV5+GaZPT9q3FpEEpbs9ABFxx9Sp8MEH4T+3bw+9ekFuLnzrW9CqiXuAF1wAHTse/fz9+sFxxyVnrCKSHKr0RQIuVqU/dSpMmBBe6CsqYPNmePJJOOUUuOuuhucJhcIfTf1CICLepuY8cbKSE+xktZKzKWlp0Lo1dO0Ko0bBf/0XrFkDZWXh53/zG5g1C+65B266KXxn4KGHYNEiOHwYrr0Wov8aP/8crrgC9uwJ397/xS9qn5syBRYsgDvugJtvDp+nqir8XHU1/PWvMHky3HADrFgB48bBoUPNy2NlTq3kBDtZ1ZzHY6zkBDtZreRsjr59oUcP2Lix9rF168IL9eOPh/fyI9q0gbPOgn/+s/axl16CnBzo3Lnx85eWwv33wyOPwLZt4eMBVq0K/7Lx0EPwhz/Am2+2bPxW5tRKTrCTVc15RMQVxx8Pe/fWfn7++eHHIHxnIFpubt1Fv7g4/FgseXmQnh7+GDwY3nsv/PhLL8Fll4XvOLRrB1dfnZQoIlKPFn0RqeOzz+q+UC+y4Ddm4EA4eBBKSmDXLtiyJVz9xxJ93mOOgQMHwn/+9FPo1q32ueg/i0jy6NX7IlJjyxbYuRNOPz2+41u1Cr8W4J//DN/SP/PM8DsBmuv44+GTT2o/j/6ziCSPmvPEyUpOsJPVSs6mhELhF9N9+mn4PfW//jWcfTacfHL858jNhX/96+i39psyahQsWwa7d4er/3nzWnYeK3NqJSfYyepUzoQr/T7Rr+wJMCs5wU5WKzmb8tBD4Y/27SEzM7zn/q1vNe8c/fqF9+E//RSGDm3ZOC68EHbsgNtvD9/2v/JKWLs2vPffHFbm1EpOsJPVqZx6n75IwCW7I58T3nsPfvlL+POf3R6JSLDohXwi4rojR2D9+vD79fftg6eegpEj3R6VSPCoOU+crOQEO1mt5PSDUCi80E+aBN//frh9b35+889jZU6t5AQ7WdWcx2Os5AQ7Wa3k9IM2beD3v4c5c2D2bPjhD6FDh+afx8qcWskJdrKqOY+IiIgklRZ9kYD63//9X049dQSQTlpaGsOGXcTy5cvdHpaIuEiLvojPbNu2jdGjR5OZmUnfvn2ZOXNmg2PuvHMG06c/wwknPEpe3mHy8kJ06PAgN9/8Pzz88FwXRi0iXpDw+/TVOCF4rGT1c87p06dz3nnnsWvXLoYMGcKFF17I6V+10Zs27acsWbKb/v3/VudrOnUazBlnPMuMGd/i2GMPceONLXilnMf5eU6bw0pOsJPVqZx6n76Iz1100UXcfffdjB49mtLSUq655sf06hW7pV0oFOKddy6gpORFWrdu7eBIRcRtur0v4mOlpaWUlpYyYsQIAF5//XU++6xNk1+TlpZGZeUhXn31VSeGKCIekg7h9wfWf7tAVlZWnbaAOkbHpPqY8vLyBu9V9fqY3TgmPT2dQYMGceTIEa666ipmzZpFx6/++7q3336b4447m6P54ovtTJ06ld/97neeyeX3Y7Kzs+ndu3ezzqNrXsc4fUzCt/e3bt1qojeylZxgJ6ufcx44cIAxY8Zw/fXXc8MNN9Q8vmTJEn7wgycZNGhxk1+/du0ZPP/8kwwePDjVQ3WUn+e0OazkBDtZncqp5jxxspIT7GT1a86qqiquueYaLrnkkjoLPsAFF1xA+/ZfNPn1+/dvJyOjY+AWfPDvnDaXlZxgJ6ua84hIo4qLiykqKuKRRx4hMzOTzMxMFi1aBMBxxx3H3Xd/jzffjP1f5W3YcA2PPfZbp4YrIh6S8Fv2RMRZF154YZP/a971119Lp06dKSg4lczMO+jceRjV1Yf44osNvPvuf7Fy5bOcc84QB0csIl6hSl8kgC6//BLWrFlCnz4vsHbtRWzYcCWnnfYy77//thZ8EcMSXvTVOCF4rGQNes5+/fpxxRVjOXy4gnPPPYMrrxxL9+7d3R5WSgV9TiOs5AQ7WZ3KmfCib+FVlWAnJ9jJaiHnhg0bGv1zUFmYU7CTE+xkdSqnbu+LBNT+/ft59913az7ftGkTVVVVLo5IRNymRV8koN555506i/yBAwfq/BIgIvYkvOjX7yYVVFZygp2sQc/59ttvx/VYkAR9TiOs5AQ7WZ3KqeY8cbKSE+xkDXrOxvbwg76vH/Q5jbCSE+xkVXMeEWmx+vv5EdrXF7FNi75IANXfz4/Qvr6IbVr0RQKoqb37oO/ri0hsas4TJys5wU7WIOdsau8+yPv6QZ7TaFZygp2sas7jMVZygp2sQc0Zaz8/Isj7+kGd0/qs5AQ7WZ3Kqf9wRyRg9u3bx9VXXw3ARx99xNKlSwH45je/SdeuXWuOOe6441wbo4i4Q4u+SMB07dqViRMnAvDGG2/UPH7xxRfTr18/t4YlIh6g5jxxspIT7GS1ktMSK3NqJSfYyarmPB5jJSfYyWolpyVW5tRKTrCTVc15REREJKm06IuIiBihRV9ERMQINeeJk5WcYCerlZyWWJlTKznBTlY15/EYKznBTlYrOS2xMqdWcoKdrE7l1O19ERERI7Toi4iIGKHmPHGykhPsZLWS0xIrc2olJ9jJquY8HmMlJ9jJaiWnJVbm1EpOsJNVzXlEREQkqbToi4iIGKFFX0RExAg154mTlZxgJ6uVnJZYmVMrOcFOVjXn8RgrOcFOVis5LbEyp1Zygp2sas4jIiIiSaVFX0RExAg154mTlZxgJ6uVnJZYmVMrOcFOVjXn8RgrOcFOVis5LbEyp1Zygp2sas4jIiIiSaVFX0RExAgt+iIiIkaoOU+crOQEO1mt5LTEypxayQl2sqo5j8dYyQl2slrJaYmVObWSE+xkVXMeERERSSot+iIiIkaoOU+crOQEO1mt5LTEypxayQl2sqo5j8dYyQl2slrJaYmVObWSE+xkVXMeERERSSot+iIiIkZo0RcRETFCzXniZCUn2MlqJaclVubUSk6wk1XNeTzGSk6wk9VKTkuszKmVnGAnq5rziIiISFJp0RfxocmTJ9OtWzdycnLcHoqI+Iia88TJSk6wk9XPOW+66SaWL1/u9jA8x89z2hxWcoKdrGrO4zFWcoKdrH7OmZubS5cuXdwehuf4eU6bw0pOsJNVzXlEREQkqdIhfFuh/m8ZWVlZdV5NGOuYaImcx+vHABQXF3tmPKk8JpqT4ykvL29wi0tz2vgxgwcPpjH1z1NaWnrUY7yUK9FjwL05zc7Opnfv3s06T0uv+bS0tDqfe3EugjCnTh7j2JyGErR69epET+ELVnKGQnay+j1nWVlZqH///k0es379+hAQysvLC23evNmhkbnH73MaLys5QyE7WZ3KqeY8cbKSE+xktZLTEitzaiUn2Mmq5jweYyUn2Mnq55wTJkzg3HPPpaSkhMzMTAoLC90ekif4eU6bw0pOsJPVqZzpjnwXEUmqhQsXuj0EEfEhvXpfRETECDXniZOVnGAnq5WclliZUys5wU5WNefxGCs5wU5WKzktsTKnVnKCnaxqziMiIiJJpUVfRETECC36IiIiRqg5T5ys5AQ7Wa3ktMTKnFrJCXayqjmPx1jJCXayWslpiZU5tZIT7GR1Kqdu74uIiBihRV9ERMQINeeJk5WcYCerlZyWWJlTKznBTlY15/EYKznBTlYrOS2xMqdWcoKdrGrOIyIiIkmlRV9ERMQILfoiIiJGqDlPnKzkBDtZreS0xMqcWskJdrKqOY/HWMkJdrJayWmJlTm1khPsZFVzHhEREUkqLfoiIiJGqDlPnKzkBDtZreS0xMqcWskJdrKqOY/HWMkJdrJayWmJlTm1khPsZFVzHhEREUkqLfoiIiJGaNEXERExQs154mQlJ9jJaiWnJVbm1EpOsJNVzXk8xkpOsJPVSk5LrMyplZxgJ6ua84iIiEhSadEXERExQs154mQlJ9jJaiWnJVbm1EpOsJNVzXk8xkpOsJPVSk5LrMyplZxgJ6ua84iIiEhSadEXERExQou+iIiIEWrOEycrOcFOVis5LbEyp1Zygp2sas7jMVZygp2sVnJaYmVOreQEO1nVnEdERESSSou+iIiIEWrOEycrOcFOVis5LbEyp1Zygp2sas7jMVZygp2sVnJaYmVOreQEO1nVnEdERESSSou+iIiIEVr0RUREjFBznjhZyQl2slrJaYmVObWSE+xkVXMej7GSE+xktZLTEitzaiUn2Mmq5jwiIiKSVFr0RUREjFBznjhZyQl2slrJaYmVObWSE+xkVXMej7GSE+xktZLTEitzaiUn2Mmq5jwiIiKSVFr0RQLsyJEjAHz++ecuj0REvECLvkhALV68mEmTJtG+fXvefPNNLr/8ctauXev2sETERemJnkCNE4LHStYg51yyZAm33XYbp5xySk3O6upqrrrqKoqKihgyZIi7A0yRIM9pNCs5wU5Wp3KmhUKhkCPfSUQcsWXLFi6//HJOOOGEBs9VVVVRVlZGeXk5rVu3dmF0IuIm3d4XCZhVq1bx5ZdfNvpc69atOXToEIWFhQ6PSkS8IA1QpS8SMH379iU7O7vR515++WX279/v8IhExAvSE727v3XrVhO9ka3kBDtZg5pzxYoV3HHHHTGfz87O5umnn+b00093cFTOCOqc1mclJ9jJ6lRONeeJk5WcYCdrUHOOGTOGTp06sW3btgbPlZaWMmTIkEAu+BDcOa3PSk6wk9WpnAm/el9EvGflypWcfPLJvPfee7Rv357q6moOHDhA27ZttZ8vYpheyCcSQAsXLmTYsGG0adOGzZs38/nnn9O+fXtOPfVUli1b5vbwUsbCbWCArl27uj0Ex1iZU6do0Y9TerqdmyLt2rVzewiSgH379rF06VIALrjgAqqrqxk2bBhnnXUWAAsWLODQoUNuDjFlrLynu3///m4PwTFW5tSpNSbhRT96Qqqrqxk5ciSjRo1K9LSec/rpp1NdXc2ZZ55JVlYWffr0Ydq0aQSxzcHAgQPZtm0bo0ePJjMzk759+zJz5ky3h5V0AwcOBGDy5Ml069aNnJwcl0cUv1WrVtGvXz+ys7O555576jy3cOFCDhw4AMDYsWNrHr/ssssAqKysDGS178d5bAkLP5uAmX9vIwYOHOjIGprwoh996+Wxxx7jpJNOSvSUntSlSxdatWpFUVER5eXllJSUsGbNGlasWOH20JKuffv2AEyfPp3t27ezdu1aZsyYwaZNm1weWXJ16dIFgJtuuonly5e7PJr4hUIhbrzxRubPn09ZWRnPP/88a9asAepW+UOHDiUzM7Pm604//XT69esHBLPa99s8JiLoP5uAmX9vIzp27OjIGpq02/u7du1i7ty53HLLLck6pSf16NEDCP8WWl1d7fJoUqdXr16cd955AHTv3p1+/frx4Ycfujyq1MjNza35BcAP/v3vf3P88cczYMAA0tPTyc/PZ+HChUDdKj8/P7/B11533XVAMKt9v81jS1n62bTy7y04t4YmbdG/4447uPfee0209uzfvz8ZGRkMGDCAMWPGuD2clCstLaW0tJQRI0a4PRQBduzYwde//vWaz3v16sWOHTsaVPmNVQxnnHFGoKt9ayz8bFr599apNTQpi/6qVato1apVIPfyG7Nx40Y++ugj3nvvPV555RW3h5NSe/bs4aqrrmLWrFl07NjR7eEINNjXjFRACxYsaLLKjwhytW/FoUOHzPxsWvj31sk1tNmLfmFhIeeff37NR2FhIWvWrOGFF14gKyuL8ePH8/rrrzNu3LhUjNcxjeWM1rlzZ8aMGROIfzRjZT1w4ADf/va3ue2227j00ktdHmXijjanfpGZmcn27dtrPt++fTvdu3evuRZjVfkRqvb9r7q6OlA/m0cTpH9vG+PoGhpKsrVr14bOOeecZJ/WEz7++ONQeXl5KBQKhSoqKkJnnXVW6KmnnnJ5VKlx5MiR0Lhx40L33Xef20NxRFlZWah///5uDyMuVVVVoezs7ND//d//hQ4dOhQaPnx46J577gnl5eWF8vLyQu+9917NsevXrw8Boby8vNDmzZtrHn/jjTdqjp8/f74bMVLCT/PYUlZ+Ni39exst1Wtowrf3N27cmIRfPbyvsrKSPXv2kJeXR8+ePRk0aBDnn39+za3SIPnyyy8pLi6mqKiIRx55hMzMTDIzM1m0aJHbQ0uqSNvLCRMmcO6551JSUkJmZqbn7wC0atWKP/3pT1xxxRWcdNJJjBo1itLSUuDoVX5EdLW/cOHCQFT7fpvHlrLwswmY+fc2YuvWrY58n7RQKLE3PhYXF5Obm5us8XjW+vXrGTp0qNvDcERJSUnNghBkL7/8Muecc47bw0jYX//6V+bPnw/AQw89VGfRf+ONNxg6dCh5eXk88MADdeb1zTff5Kc//SkA119/PVdccYWzAxeRGk6tpUltzhNkltpeWunIF/0edr/at29f3Hv59QWx2v/888/dHoIjrOQEO1mdWkuT2pwnyKzkBDtZg5Az3lfsxxL9Sv7I2/38rFOnTm4PwRFWcoKdrE79e6Te+yI+lUiVHxHEal9EYtOiL+JT8+fPT6jKj5g4cSIQnGpfRGJLeNF36hWHbrOSE+xk9XPOyspKioqKgJZX+RFDhgwJTLXv5zltDis5wU5Wp3ImvOhH3vYUdFZygp2sfs65cOFCDh8+DCRW5UcEpdr385w2h5WcYCerUzl1e1/EZ5JZ5UcEqdoXkdi06Iv4TLKr/Ijoaj/yS4WIBIsWfREfSUWVHxFd7c+fP5/9+/cn7dwi4g1qzhMnKznBTlY/5kxVlR8Rqfa//PJLnnnmmaSfP9X8OKctYSUn2Mmq5jweYyUn2Mnqt5yprPIj/F7t+21OW8pKTrCTVc15RKSOVFf5EX6v9kUkNi36Ij7gRJUf4fdqX0RiU3OeOFnJCXay+imnU1V+hF+rfT/NaSKs5AQ7WdWcx2Os5AQ7Wf2S08kqP8Kv1b5f5jRRVnKCnaxqziMigPNVfoRfq30RiU2LvoiHuVHlR/i12heR2LToi3iYW1V+hKp9kWBRc544WckJdrJ6PaebVX6E36p9r89psljJCXayqjmPx1jJCXayej2n21V+hJ+qfa/PabJYyQl2sqo5j4hh0VX+kCFDXKnyI6K/vx+qfRGJTYu+iActWLCgpsqPVNpumjJlCuCPal9EYlNznjhZyQl2sno1Z2VlJUuXLgXq7qm7yS/VvlfnNNms5AQ7WdWcx2Os5AQ7Wb2a02tVfoQfqn2vzmmyWckJdrKqOY+IQV6s8iP8Uu2LSGxa9EU8xKtVfoQfqn0RiU2LvohHeLnKj1C1L+Jvas4TJys5wU5Wr+X0epUf4eVq32tzmipWcoKdrGrO4zFWcoKdrF7K6YcqP8LL1b6X5jSVrOQEO1nVnEfEEL9U+RHR1f6yZctcHo2IxEuLvojL/FTlR0RX+wsWLPBUtS8isak5T5ys5AQ7Wb2Sc/78+b6q8iO8WO17ZU5TzUpOsJNVzXk8xkpOsJPVCzkrKytrFky/VPkRXqz2vTCnTrCSE+xkVXMeEQP8WuVHeLHaF5HYtOiLuMTPVX6EF6t9EYlNi76IS/xe5Ueo2hfxDzXniZOVnGAnq5s5g1DlR3ip2te1GzxWsqo5j8dYyQl2srqZMyhVfkR+fj7gfrWvazd4rGRVcx6RgIqu8s844wxfV/kRQ4cO9Uy1LyKxadEXcVh0lX/ddde16ByTJ0+mW7du5OTkJHNoCfFKtS8isak5T5ys5AQ7Wd3Imawq/6abbmL58uXJHFrCvFDt69oNHitZ1ZzHY6zkBDtZ3cj59NNPJ1zlA+Tm5tKlS5dkDStpoqv9SGthJ+naDR4rWdWcRyRgKisra/4r2qDs5dcXXe0vXLhQe/siHpMO4dsK9X/LyMrKqvNqwljHREvkPF4/BqC4uNgz40nlMdGcHE95eXmDW1xBmtPly5ezc+dOIFypR2vsPDk5OWRkZFBfSUkJPXr0aPB4Y+cpLS096jGJ5qp/TH5+Pj//+c/58ssveeKJJxq87iBIcxotOzub3r17N+s8Lb3m09LS6nzuhX83gjinTh7j2JyGErR69epET+ELVnKGQnayOpnziy++CE2YMCGUl5cXmj59etxf9/jjj4dyc3NrPh5//PGa58rKykL9+/dv8uvXr18fAkJ5eXmhzZs3t3j8zXXbbbeF8vLyQtdcc03oyy+/dOz76toNHitZncqp5jxxspIT7GR1MmdL9/ILCgpYvXp1zUdBQUGqhphUbu3t69oNHitZ1ZzHY6zkBDtZncqZir38CRMmcO6551JSUkJmZiaFhYUJnzOZ3Nrb17UbPFayqjmPSEAk6xX70RYuXMhHH33E4cOH2b59uyfvALj9Sn4RaUiLvkgKWXjFfix6Jb+I96g5T5ys5AQ7WZ3ImYoq30+crvZ17QaPlaxqzuMxVnKCnaypzmm5yo9wutrXtRs8VrKqOY+Iz1mv8iO0ty/iHVr0RVJAVX4t7e2LeIcWfZEUUJVfl6p9EW9Qc544WckJdrKmKmd0lT948GDTVX6EU9W+rt3gsZJVzXk8xkpOsJM1VTmjq/xJkyal5Hv40eTJk4HUVvu6doPHSlY15xHxIVX5sQ0bNkx7+yIu06IvkkSq8pvmRLUvIrGpOU+crOQEO1mTnVNV/tGlutrXtRs8VrKqOY/HWMkJdrImO+e8efNU5cchldW+rt3gsZJVzXlEfKSyspLly5cDqvKPRnv7Iu7Roi+SBKrym0d7+yLu0KIvkiBV+c2nal/EHWrOEycrOcFO1mTlVJXfMtHVflFRUVLOqWs3eKxkVXMej7GSE+xkTUZOVfktF13tL1q0KCnVvq7d4LGSVc15RHzAD1V+RkaG20OIKRXVvojEpkVfpIX8UuV/+umnbg8hplRU+yISm5rzxMlKTrCTNdGcc+fO9XyV7wfJrPZ17QaPlaxqzuMxVnKCnayJ5KysrOTZZ58FvF3l+0Eyq31du8FjJaua84h4mKr85NLevogztOiLNJOq/OTT3r6IM7ToizSTqvzUULUvknpqzhMnKznBTtaW5FSVnzrJqPZ17QaPlaxqzuMxVnKCnawtyakqP7USrfZ17QaPlaxqziPiMaryU097+yKppUVfJE6q8p0RXe0vWbLE5dGIBIua88TJSk6wk7U5OSsqKlTlOyS62l+8eHGzqn1du8FjJaua83iMlZxgJ2tzci5YsEBVvoNaWu3r2g0eK1nVnEfEIyoqKnzRYz9IEqn2RSQ2LfoiR7FgwQKOHDkCqMp3kvb2RZJPi75IE1Tlu0fVvkjyqTlPnKzkBDtZ48mpKt9dza32de0Gj5Wsas7jMVZygp2sR8upKt99za32de0Gj5Wsas4j4jJV+d6gvX2R5NGiL9IIVfneob19keTR+/TjZCUn2MnaVM758+eryveQ6Gp/8eLFMY/TtRs8VrL65n366pYUPFayxsqp7nveE5k4uOwAACAASURBVF3tL1myJGa1b/3aDSIrWX3TkU8kaFTle1O81b6IxKZFXyRKdJU/aNAgVfkeEm+1LyKxadEXiRJd5UcqS/GOyJ0XVfsiLaPmPHGykhPsZK2fU1W+9w0fPrzJat/qtRtkVrKqOY/HWMkJdrLWz6kq3x+aqvatXrtBZiWrmvOIOEhVvn8crdoXkdi06IugKt9vtLcv0jJ6n36crOQEO1kjOVXl+0+sat/atWuBlay+eZ++uiUFj5WskZxPP/20qnwfaqzat3btWmAlq2868on4WUVFBc899xygKt9v6lf7+/btc3lEIt6nRV9MU5Xvb9HVflFRkcujEfE+LfpiVmVlpS+r/G3btjF69GgyMzPp27cvM2fOdHtIromu9hctWqRX8oschZrzxMlKTrCT9e233/ZtlT99+nS2b9/O2rVrmTFjBps2bXJ7SK6JVPsHDhygrKzM5dE4w8rPKNjJquY8HmMlJ9jIWlFRwWuvvQb4q8oH6NWrF+eddx4A3bt3p1+/fnz44Ycuj8o90dX+v/71LxN7+xZ+RiOsZFVzHpEUCspefmlpKaWlpYwYMcLtobgqutrX3r5IbOkQfn9g/bcLZGVl1fnNQ8fomFQfU15e3uC9qqn4XhUVFSxcuJDKykr69u3Lzp072blzp+f+fnJycsjIyKC+srIyTjzxRI4cOcJVV13FrFmz6NixY6PnKS0tbfD1budKxTHDhw+nW7dubN68mVmzZtGlSxfat2/v6Hiys7Pp3bt3s87j1DWvY3RMRFooFAqRgK1bt5q4/WIlJwQ/66xZs1i2bBn79+9n5syZnr61X1hYyOzZs2s+z8/Pp6CggAMHDjBmzBiuv/56brjhhphf/8YbbzB06FDy8vJ44IEHPJ01Ua+99hp33303xx57LBMnTmTixIluDyllgv4zGs1KVqdyqjlPnKzkhGBnjX5f/oknnuj5RbCgoIDVq1fXfBQUFFBVVcU111zDJZdc0uSCb83w4cPp0qULEH4lf5D39oP8M1qflaxqziOSAtF7+d/85jddHk3LFBcXU1RUxCOPPEJmZiaZmZksWrTI7WF5wkUXXQRob18klnS3ByDilOgqf+DAgXX2X/3kwgsvJMFducA67bTT2Lx5M1u2bGHRokWMGzeODh06uD0sEc9QpS9mRFf5+fn5Lo9GUuW6664DwtX+kiVLXB6NiLeoOU+crOSEYGatX+X369cvkDmty8rK4swzz6x53/7ixYsDubdv6dq1klXNeTzGSk4IZtbGqvwg5rQuMqdBr/YtXbtWsqo5j0iSNFblS7BZqPZFWkKLvgSe9vJtCnq1L9ISCS/69btJBZWVnBCsrE1V+UHKKWHRcxrkat/StWslq1M51ZwnTlZyQrCyzps3L2aVH6ScElZ/ToNa7Vu6dq1kVXMekQRVVFSwYsUKQHv5VgW52hdpCS36ElhNVfliR1CrfZGW0KIvgaQqXyJU7YvUSnjRz87OTsY4PM9KTghG1niq/CDklLpizWnQqn1L166VrE7lTHjR92v/8uaykhP8nzXeKt/vOaWhWHMatGrf0rVrJatTOXV7XwJHe/nSmOhqf/HixS6PRsQdWvQlULSXL7FEV/tLlizxfbUv0hJqzhMnKznB31mbU+X7Oac07mhzGpRq39K1ayWrmvN4jJWc4N+sza3y/ZpTYjvanAal2rd07VrJquY8Is00d+5c7eXLUQWl2hdpCS36EggVFRWsXLkS0F6+NC0o1b5IS2jRl0BQlS/NoWpfrFJznjhZyQn+y9rSKt9vOeXo4p1Tv1f7lq5dK1nVnMdjrOQE/2VtaZXvt5xydM2ZUz9X+5auXStZ1ZxHJA7ay5eW8nu1L9ISWvTF17SXL4nwc7Uv0hJqzhMnKznBP1kTrfL9klPi19w59Wu1b+natZJVzXk8xkpO8E/WRKt8v+SU+LVkTv1Y7Vu6dq1kVXMekSZoL1+Sxa/VvkhLaNEXX9JeviSTH6t9kZbQoi++oypfkk3VvliR8KKflZWVhGF4n5Wc4P2syaryvZ5Tmi+ROfVTtW/p2rWS1amcCS/6ffr0ScY4PM9KTvB21mRW+V7OKS2TyJz6qdq3dO1ayepUTt3eF1/RXr6kkp+qfZGW0KIvvqG9fEk1P1X7Ii2h5jxxspITvJs12VW+V3NKyyVjTidOnAh4u9q3dO1ayarmPB5jJSd4M2t0lT9gwICkVPlezOkpf14Kl92e+u+TdRm8vikpp0rGnI4YMcLz1b6la9dKVjXnEYny97//vabKnzJlisujCZAFL8LI78Cx50C30fCt22DtW86O4Rffhz4nOvs9jyK62l+0aJHLoxFJHi364nkVFRU8//zzQPKqfAFmLYTv/hxuGAdli8If382DvyxzdhxTLoNuXZz9nkcRXe0XFRV5stoXaQkt+uJ5qvKbZ/fu3cyZM4c5c+awevXqmsdXrlzJnDlz2LBhA+w/AHc9DL+9Hb43Ab7eHTp3hCtHwx/vbvzEr2+CUQXQ+XwYeC28+Grtc9MfhT6XQcdz4YzroHh97XOPzoexP4Ap08Nfd/qV8M83ap+Pvr1/tGM3vAtnToFOueGthxt/CT/6n4T/zhqjal+CSM154mQlJ3grayqrfC/lTKYOHTowb968Bov+888/z5w5c9i/fz+s3wx79sK1Fzc8QVpaw8d2fQZjpsJtE+HTF+F//h9cczd8/Gn4+dOy4NW/wJ7V8J9XwdU/Cv9iUfPNX4Fbroa3/g6/nhperGOJdWxVFYyfBtdcDJ/9A6ZNhr89V+dLkzmnXq72g3rtNsZKVjXn8RgrOcFbWVNZ5XspZzK1b9+eb3zjGzGf79atG3y6Bzq0g+O+Ft9J56yAkQPgqtHQujXkDoXcIfDsmvDzEy+BEzLCz900Htq3hdIPar9+1GAYkRP+86XnwLvbYO+XjX+vWMeufwe+2Ac/vC78fc4fBhePrPOlyZ5Tr1b7Qb12G2Mlq5rziHnay2+5nJycmM8dc8wxkNEZ9h2AL/bGd8KtH4Vf4HfqFbUfr26ETz8PP//XZTA8H3qNDd+u/3A37N5T+/UZnaIG0AZatYq96Mc69sPd0LNb+POIXifEN/4W8nK1L9ISWvTFs7SX33IDBgyI+Vzbtm1h6KnQ+Wsw9/mGB4RCDR/rdQKMHgGbF9R+bFsOd0yGsg/gtt/CEz8NP1a+DDK7N36eRJzYFT78BKqrax/b9nFyv0cjvFrti7SEmvPEyUpO8EZWJ6p8L+RMldNOO43WrVs3eLxdu3Z07twZ2reDGbfCtIfg8cXw0W7YUxl+C99/zmh4wmvHwKrXYe5KOHwEDh4Kv8Dug53hW+7HtoOTe4WPXfpPeP/D5Icaeip07AC//1t4f3/167ByXZ1DUjGnXqz2g3zt1mclq5rzeIyVnOCNrHPmzEl5le+FnKkSa1//9NNPr/1l4OYroPAn8KdF0PfbcPJ4eHIpTPlWwxOe2BVWzITHFsIJ34TMsTDjz+Gqe+hp4T39MybBpbfCmrcgp2/yQ6Wnw4LfwN9XQJcL4LdPwdXfhLZtag5J1Zx6rdoP8rVbn5WsTuVMd+S7iDTD7t27k959z6KcnBxKSkoaPFbHlaPDH435Tl74I2LIqfCPRxs/9re3hz8ifj219s/fvzL8Ee1I1Nv9ypfFf+ygU+C12bWfj/shnDOo8TElUaTa37JlC0VFRYwfP54OHTqk/PuKJJv29MVz5s2bR/VX+7bay2+5xvb1m9rr94WX/h1++2AoBM++DP94DS4925Fv7bVqX6QltOiLp6jKT576+/rt2rVr8q18vrC5PNy05/gL4P/9N/ztV5CZ2lfwR3hxb1+kudScJ05WcoK7WZ2s8oM+p/X39evs5/vVjZfDzpVQsRo2zINxuXWeTvWcRlf7CxcuTOn3akrQr91oVrKqOY/HWMkJ7mV1usq3MKfRe/hNvXc/KFI9p9HV/tKlS12r9i1cuxFWsqo5j5ijvfzkmjdvHg//7F7aAM8tW8bMn/yCF154we1h+Z5Xqn2RltCiL54QXeXn5ORoL78J1dXVnHnmmWRlZdGnTx+mTZtGqF4jnP++8x6e/u7t/LE8nf0MoTI0mAc2H+bXl13L4t894tLIg2HEiBH06hXuSeBmtS/SEmrOEycrOcGdrNFVfqSSSjW/zmmrVq0oKiqivLyckpIS1qxZw4oVK2qe/+Udd7LxoSd5+suenEkHWpNGW1oxnA68eDCLP971E+Y8/oSLCVLHqTnNz88H3Kv2/XrttoSVrGrO4zFWcoLzWaOr/H79+jn2tjI/z2mPHj2AcNVfHdWWtqysjLcXPMOswz1jfu3yI9k89rNfUVVVlfJxOs2pOXW72vfztdtcVrI6lVO398V1c+fO1V5+C/Tv35+MjAwGDBjAmDFjAFi/fj2tP/ykya9rTRqHdlfw6quvNnmcxJaWluZ6tS/SEukQvq1Q/7eMyH5hRKxjoiVyHq8fA1BcXOyZ8aTymGip/l4dOnSo6bHfo0cPPvvsM8f+nsHbc5qTk0NGRgb1lZWV0bNnTzZu3MiePXuYMGECr7zyCiNHjuTtt9/m3MPtGnxNfR8e3Mutt97Kgw8+6MnsfpjTAwcO0Lp1a3bt2sUTTzzB8OHDOfXUU5t1nvLy8ga3deMZT1paWp3PvTgXfpxTN49xak7TQvVfAdRMxcXF5ObmHv1An7OSE5zN+sgjj9TsR//qV79ytGOcH+a0sLCQ2bNr287m5+dTUFBQ55j777+fyspK7r33XhYvXsxfrvs+i/ZnNnneIe23UPjyi5xxxhkpGbdbnJ7TdevWcd999wFw1VVX1VT/qeaHazdZrGR1Kqea88TJSk5wLuvu3btrqnwn9/Ij/DCnBQUFrF69uuajoKCAXbt21VRAe/bsYcmSJZx22mkA5ObmUtm1Y5Pn3MlhOnbLCNyCD87PqVt7+364dpPFSlY15/EYKznBuaxu7+X7dU737NlDXl4ePXv2ZNCgQZx//vlcd911AHTp0oXv/PguLmv/Qcyvn3DsDn49649ODddRTs+pW3v7fr12W8JKVqdyJnx7X6Qldu/ezY033kh1dTX9+vXjgQcecHtIgbL8ydncfevtTNt3HMM4loOE+D/281/H7GLJc8sZdkHwb5c6JRQKMXXqVLZt20a7du148skn9T/wiWfp1fviCrer/KAb+918Zq9ZxT++PYRRlPDd3gd5fcoFvPZ+mRb8JNMr+cVP1JwnTlZyQuqzur2XHxH0OR04cCBPLl7AZ1Tx5tb3+J+/PEHPnrHfvx8Ebs2p03v7Qb92o1nJquY8HmMlJ6Q+q1eqfEtzaoVbc+p0tW/p2rWSVc15JJC8UuWLJJvbXfpE4qFFXxzllSpfJNm0ty9+oEVfHKMqX4JO1b54nZrzxMlKTkhdVq9V+Zbm1Aq359Spat/tnE6yktWpnHqfvjhC78t3T1paGvoxd47ety9eptv74givVfkiqZKWlsbkyZMB7e2L92jRl5TTXr5YM3LkSO3tiyepOU+crOSE5Gf1apVvaU6t8Mqc1q/2FyxYkNTzeyWnE6xkVXMej7GSE5Kb1ctVvqU5tcJLcxpd7S9btiyp1b6XcqaalaxqziOB8Pe//92TVb5IqqW62hdpCS36kjK7d+/mhRdeALxX5Ys4IZXVvkhLaNGXlFGVL9ap2hevUXOeOFnJCcnJ6ocq39KcWuHFOU1Fte/FnKliJatTORNe9Pv06ZOMcXielZyQnKx+qPItzakVXpzTVFT7XsyZKlayOpVTt/cl6fxQ5Ys4SXv74hVa9CXp/FDlizhJe/viFWrOEycrOSGxrH6q8i3NqRVentNkVvtezplsVrKqOY/HWMkJiWX1U5VvaU6t8PKc1q/258+f3+JzeTlnslnJquY84jt+qvJF3BBd7RcVFVFZWenyiMQaLfqSNHPmzPFNlS/ihuhq//Dhw/of+MRxWvQlKXbv3s2LL74IqMoXaYqqfXGTmvPEyUpOaFlWP1b5lubUCj/MaTKqfT/kTBYrWZ3KmRYKhUKOfCcJrN27d3PjjTdSXV1Nv379eOCBB9wekkRJS0tDP+beEgqFmDp1Ktu2baNNmzb8+c9/pmPHjm4PSwzQ7X1JWHSVn5+f7/JoRLxPe/viFi36kpD6e/kDBw50eUQi/qC9fXGDmvPEyUpOaF5WP1f5lubUCj/NaSLVvp9yJspKVjXn8RgrOSH+rH6v8i3NqRV+m9OWVvt+y5kIK1nVnEc8z89VvogXaG9fnKZFX1rE71W+iFdob1+cpEVfWkRVvkhyqNoXJ6k5T5ys5ISjZ42u8m+88UbfVvmW5tQKv85pc6t9v+ZsCStZncqZ8KLfp0+fZIzD86zkhKNnfeWVV2jfvj0PPfQQ48aNS+ybPTofrrwzsXO0kKU5tcKvc9rcaj+VObdvh0mTUnb6ZvPrnDaXUzl1e1/ik3M1tBoGWz+ia9eujBw5kpNOOglGFUDaMPh3ydHP8e42+Nqo1I9VxIeSsbc/dSqMG1f3o6ys6a958EFYtKglIxY/0qIv8Tu5Nzy1nBEjRpCXlwdbtsOOXXBMutsjCztyxO0RiLRYU9V+c34B+MEPYP782o9vfCPpQ41bVZV731sap+Y8cbKSE+pm3bFjR+0Tk8fC7OUA4Sr/r8+EH0tLqz2mch8U/AJO+Cb0Ggs//kPtT/74afDlAci6LPxR+tX3qaqG//g1dDwXThkP/3yj9nwffwpX/wi6jw5/ze//t/a5R+fD2B9A/k/g1CvgT4tbnFOCwe9zetZZZ9G7d28Ali5dytatW3n88ccpKCjgo48+qjmuqZytW8Mxx9R+VFXBr34FkyfDxInws5/BJ5+Ej/3HP2DdOpg3DwoK4I9/rD3Pc8/BlCmQnw9Ll9b9HqtWwX/+Z/h8P/kJfPxx+PHI1sC8eeG7Dg8/nPjfid/nNF5qzuMxVnJC3ax1LsTTsuBr7eHVDeHPn3oW8sfW/eI7fg8ffgIlC2HNE7BoFcycF35u0W/h2HZQviz8ccpXe1jPvATnnQGfrYIfXAs3/jL8eCgU/kWhdw/44Bko/hM8uiB8fMSKtXDj5bB5AXz/ihbnlGAIwpxO+mpD/dChQ9x6660UFRVx4MAB3nnnnZpjmpMzFIKzz4bHH4c//xm6dIFHHw0/d+GFMHIkXH01FBbCf/xH+PF9++CDD+BPf4Lp0+Evf6n9ReGNN8KfT5sGTz0FQ4bAb34T/j4AlZVQXQ0zZ8Lttyf4l9HMrH6m5jziCdu2bav7wJTLwtX+S/+Gbp1rF+6Ivz0Hv7oFOneEXj3g7u/C7Gea/ibDToOJl0Cb9PACXrYN9n4Jb5XBxi1w/63Qri30ORGmXg1Pv1D7tSNyIHdo+M/RdxxEfGjfvn0x//EvLS2N6xx//GO42p40Ce66C9q0gQsugHbtoG1buPZa2LTp6Of5znfCx598MmRnQ2RYzz4bfq3ASSeF7ypcfjns3Am7doWfT0uDCRNq/yze4pHNWPGqDz74oO4DE8fAwGvDi/KUy+o+9/le2HcA+vSofSyrJ+z4pOlv0rNb7Z/btYXWrcLn3/oRHDwE/a+uff7QYRh8Su3nJ3ZtXiARj1q/fj0zZszg4MGDjT4fXek3ZcqUcPUOkJ4errpnzw7fxj9wILwQ79sXfrxVjLKvQ4fw1kBE27awf3/4z598En5x4PPP1z7fujXs2RP+uvpfK96iRV9iqqyspKKiou6D3brA0NPg7yvhwR/Wfa7T16BDO9i6EzI6hx8r/xC+/tWi3qqZv/b3OiF8x+Cd+bFLBpUSEhCDBg3i5JNPZsOGDY0+X15ezqFDhzjmKCtqhw7QNep34ZUr4e23YcYM6NQpvGgXFNTejo+18MfStStcfDGMHdvwue3b9SPpdWrOEycrOaE261tvvdX4ATPvhNWz4PhODZ+7dgz85I/hqn/7x3D/X8Iv9oPwLwz7D8JHu+MbyKBTILsn3PVwuPKvqoJNW2pfU5AgS3NqhZ/nND09nR//+Mf07Nmz0edDoRCbN28Gmpdz3z44/vjwgg8NX5TXqRNEvUbwqC69NPyugLKy8C8O+/bBSy8d/etays9z2hxqzuMxVnJCbdaSkobvvX///fd5ecf7HBl6auNf/LsfQvcu4Vfhj/wO5J0b3ocH6NgB7ro+vD3Q+Xx45/2mB9KqFSx+MPzCwG9cDl0vght+AXv2tjxcFEtzaoXf5/TYY4/l5z//Occdd1yjz0cW/ebkvPhiOHw4/KK6n/0MTjih4fObN4dfif/73x/9fEOHhvf7H344/PqAqVPhtdfiHk6z+X1O4+VUzrRQKHKTR6SuO++8k23btnHfffeRnZ0NwCOPPMK4ceNqmoiI96WlpaEfc3959913ueuuuzh8+HCdx4cNG8b06dNdGpUEgRZ9aVRVVRVXXnklVVVVdOjQgXHjxlFeXs6ll17K4MGD3R6eNIMWfX9as2YNM2bMqPNY+/btmTt3rksjkiBQc544WckJ4axlZWVUfdVUZ9++fcyZM4fhw4cHasG3NKdWBGlOzz77bK6//vo6j+3fv58dO3YEKufRWMmq5jweYyUnhLNG9g4jrrjiCkaPHu3SiFLD0pxaEbQ5beznbvPmzYHL2RQrWZ3KqbfsSY25c+eyfs1aPih7j0Pt2lBdXU2rVq04++yzmTJlitvDEzFp6tSp7Ny5kw0bNnDw4EFmzZrF3r2tWbZsBSNHDuWKK5rXiVJs06Iv7N27l/MGDeHcTw6TWXmYgbRhVau9LEz7nPHjx3PHHXeQpjffek51dTVnn3026enpvJTK90yJq1q1asWPf/xjrrxyMuvWvUNGxoV06XIRW7a8x7PP/ovf/OYx1q1boZ9RiYsWfeOOHDnChd84ncKPv8YZ1L5NaHJ1BoXAxc8Vs+mV1xg06mz3BimNeuyxxzjppJMadk2UwFm58p+8804VubkN/5/cjz5azNChY3njjWddGJn4jZrzxCmoOfPHfIv7Pm7HGRzb6PN/29uD0WPGODwqZ/h5Tnft2sXcuXO55ZZb3B6Kp/h5TmPZsWMHt9xyNwMGLGn0+RNPvJwDB87n+9//kcMjc0YQ57Qxas7jMUHM+emnn/L8y/9iNI03AgHoSjpjD3cI5NuE/Dynd9xxB/feey+tW7d2eyie4uc5jeWJJ57i2GOb/sU7K+tW/va3JwP51swgzmljnMqZDuG3CtR/5WBWVladQeiY4B3zzDPPMPrY7tD4/+9R4+DhQ0y/60f06NEjpeMpLy9v8LYVr/8dpvKYnJwcMjIyqG/VqlW0atWKUaNGsW7dujrPNXae+tzOFdRjsrOz6d27d7POE881v2bN/3H88ZNoSnr6sezfv4977rmHMV/dmfPa34+O8cYxas5j2GuvvcYtF32LVyt7N3nczZRzZNJYCp/6q0Mjk4jCwkJmz55d83l+fj47d+7kD3/4A23atOHgwYNUVFRw8cUXU1RU1Og51JzH3yZOvJlNm4bSp8/3mjzuueeO49VX/xmoXhqSfAkv+lu3bjVx+yWIOQ8ePMhZvU7ijU9ObPK4qV/bzWVPP8oll1zi0MicEYQ5XbduHdOmTWvy1fuWFv0gzGl9hYWFPPjg+3zjG/fGPObgwd3s3j2F9euXOzgyZwRxThvjVE4154lTEHO2bduWawu+y63HxP4vthbwGVtP7Rm4BR+COafWBXFOCwoK+OKL+ezd2/A/wIp4660pTJt2k4Ojck4Q57QxTuVMeNEXf7vz1/dy/HfG84M2DRf+eXzGzK+nsXBNsQsjk3iMHDlS79E3YOPGVygpuYbdu+v+LFZXH+bf/76W22+/kokTx7s0OvETLfrCzx+bSeY93yfn+O0M/dpWJnTexdfS32Ll2IGs2v4ebdq0cXuIIqZ16tSJLVteoXPnx3jxxQzKyvJZt24A7713Pvfccwl33XWD20MUn1BzHgHgzp/+hNt+dCcbN26kuLiY2d/7Hh06dHB7WCLylbZt27J8+d/47LPPKCws5NJL76Jfv376pVyaJeFFX40TgqNt27YMGTKEjIwMEwu+hTm1xsKcHn/88Vx99dUmXtwGNuYUnMupt+yJBJylV++LSNO0py8iImKEFn0REREjEl7067eQDCorOcFOVis5LbEyp1Zygp2sTuVUc544WckJdrJayWmJlTm1khPsZFVzHhEREUkqLfoiIiJGaNEXERExIuFFX40TgsdKVis5LbEyp1Zygp2sas4jIkmh5jwiEqHb+yIiIkZo0RcRETFCzXniZCUn2MlqJaclVubUSk6wk1XNeTzGSk6wk9VKTkuszKmVnGAnq5rziIiISFJp0RcRETFCi76IiIgRas4TJys5wU5WKzktsTKnVnKCnaxqziMiSaHmPCISodv7IiIiRmjRFxERMULNeeJkJSfYyWolpyVW5tRKTrCTVc15PMZKTrCT1UpOS6zMqZWcYCermvOIiIhIUmnRFxERMUKLvoiIiBFqzhMnKznBTlYrOS2xMqdWcoKdrGrOIyJJoeY8IhKh2/siIiJGaNEXERExQs154mQlJ9jJaiWnJVbm1EpOsJNVzXk8xkpOsJPVSk5LrMyplZxgJ6ua84iIiEhSadEXERExQou+iIiIEWrOEycrOcFOVis5LbEyp1Zygp2sas4jIkmh5jwiEqHb+yIiIkZo0RcRETFCzXniZCUn2MlqJaclVubUSk6wk1XNeTzGSk6wk9VKTkuszKmVnGAnq5rziIiISFJp0RcRETFCi76IiIgRas4TJys5wU5WKzktsTKnVnKCnaxqziMiSaHmPCISodv7IiIiRqS7PQARab5u3brRtm1bADp06EBJSYnLIxIRP1BznjhZyQl2svo5Z+vWrdm+fTvbt2/Xgh/Fz3PaHFZygp2sas7jMVZygp2sVnJaYmVOreQEO1nVnEdEYqqqquLkk0+mf//+PPbYY24PR0R8Ih3CtxXqqoUzPwAAAcpJREFU/5aRlZVFnz59aj6PdUy0RM7j9WMAiouLPTOeVB4TzcnxlJeXN7jFZXlOc3JyyMjIoL4jR47w2muvkZWVxfvvv8+YMWPo378/o0aNavQ89bmdK6hzmp2dTe/evZt1npZe82lpaXU+9+JcBGFOnTzGqTlN+C17xcXF5ObmJnIKX7CSE+xk9UPOwsJCZs+eXfN5fn4+BQUFdY6ZNm0amZmZ3H777Y2ew9Jb9vwwp8lgJSfYyepUzoRfva/GCcFjJasfchYUFDRY5CsqKjh8+DDdu3dn165dPPvsszz88MMujdBb/DCnyWAlJ9jJquY8ItKoTZs2MX78ePbu3csxxxzDzTffzI9+9KOYx1uq9EWkaVr0RQJOi76IROjV+yIiIkaoOU+crOQEO1mt5LTEypxayQl2sqo5j8dYyQl2slrJaYmVObWSE+xkVXMeERERSSot+iIiIkZo0RcRETEi4UVfjROCx0pWKzktsTKnVnKCnaxqziMiSaH36YtIhG7vi4iIGKFFX0RExAg154mTlZxgJ6uVnJZYmVMrOcFOVjXn8RgrOcFOVis5LbEyp1Zygp2sas4jIiIiSaVFX0RExAgt+iIiIkb8f+cHduoAqKH0AAAAAElFTkSuQmCC)"
      ],
      "metadata": {
        "id": "ewrNZj_BWarq"
      }
    },
    {
      "cell_type": "code",
      "source": [
        "def word_to_vec_map(word):\n",
        "    word_vectors = {\n",
        "        \"man\": np.array([1, 0, 0]),\n",
        "        \"woman\": np.array([-1, 0, 0]),\n",
        "        \"king\": np.array([1, 1, 0]),\n",
        "        \"queen\": np.array([-1, 1, 0]),\n",
        "        \"boy\": np.array([1, -1, 0]),\n",
        "        \"girl\": np.array([-1, -1, 0]),\n",
        "        \"father\": np.array([1, 0, 1]),\n",
        "        \"mother\": np.array([-1, 0, 1]),\n",
        "        \"doctor\": np.array([0.5, 1, 1]),\n",
        "        \"nurse\": np.array([0, 1, 1]),\n",
        "        \"engineer\": np.array([0.5, 1, -1]),\n",
        "        \"teacher\": np.array([0, 1, -1]),\n",
        "        \"programmer\": np.array([0.5, 1, -0.5]),\n",
        "        \"homemaker\": np.array([-0.5, -1, 1]),\n",
        "        \"businessman\": np.array([0.5, 1, 0.5]),\n",
        "        \"businesswoman\": np.array([-0.5, 1, 0.5]),\n",
        "    }\n",
        "    return word_vectors.get(word.lower(), np.zeros(3))"
      ],
      "metadata": {
        "id": "sEiaVjSCdNZR"
      },
      "execution_count": null,
      "outputs": []
    },
    {
      "cell_type": "markdown",
      "source": [
        "## Task 2 - Implement Similarity Metrics\n",
        "\n",
        "We can measure how similar are two words using cosine similarity. We would expect non-gender specific words to be equally distant from gender specific words.\n",
        "\n",
        "There are other ways to measure similarity apart from cosine distance, like Levenshtein or Eucledean distance.\n",
        "\n",
        "🎯 The goal is to get familiar with calculating various similarity methods using python and try to find similar words that are an example of bias and unbiased vectors.\n",
        "\n",
        "Deliverables: Provide code for implementing a different distance metric in Python. Run the example words, and try measuring the distance of different words. Can you find a biased and an unbiased example? Compare it with your implementation of cosine distance. Does using a different distance metric affect the biased and unbiased examples?"
      ],
      "metadata": {
        "id": "HjltpMXUqYEE"
      }
    },
    {
      "cell_type": "markdown",
      "source": [
        "\n",
        "To calculate cosine similarity, we need to take the cosine of the angle between these two vectors. Here are the steps:\n",
        "\n",
        "1. Calculate the dot product of A and B\n",
        "   - Multiply each element in A with the corresponding element in B\n",
        "   - Sum all those products\n",
        "   - Call this dot_product\n",
        "\n",
        "2. Calculate the magnitudes (or lengths) of A and B\n",
        "   - Square each element in A, sum them, and take the square root. Let's call this mag_A.\n",
        "   - Do the same for B. Let's call this mag_B.\n",
        "\n",
        "3. Compute cosine similarity:\n",
        "   cosine_similarity = dot_product / (mag_A * mag_B)\n",
        "\n",
        "The closer this value is to 1, the smaller the angle and the more similar document A is to document B.\n",
        "\n",
        "Thanks to Python, you do not need to do these time-consuming calculations manually! Especially for step 1 and step 2, there is a library called 'numpy' with functions that can help you implement cosine distance in Python!"
      ],
      "metadata": {
        "id": "q8EJ6U-JIIBy"
      }
    },
    {
      "cell_type": "code",
      "source": [
        "\n",
        "def cosine_similarity(u, v):\n",
        "    if np.all(u == 0) or np.all(v == 0):\n",
        "        return 0  # Return 0 similarity for zero vectors\n",
        "    dot = np.dot(u, v)\n",
        "    norm_u = np.linalg.norm(u)\n",
        "    norm_v = np.linalg.norm(v)\n",
        "    return dot / (norm_u * norm_v)\n",
        "\n",
        "def euclidean_distance(u, v):\n",
        "    return np.linalg.norm(u - v)\n"
      ],
      "metadata": {
        "id": "zqkHs8YvGSAw"
      },
      "execution_count": null,
      "outputs": []
    },
    {
      "cell_type": "code",
      "source": [
        "def compare_words(word1, word2):\n",
        "    vec1 = word_to_vec_map(word1)\n",
        "    vec2 = word_to_vec_map(word2)\n",
        "\n",
        "    cos_sim = cosine_similarity(vec1, vec2)\n",
        "    euc_dist = euclidean_distance(vec1, vec2)\n",
        "\n",
        "    print(f\"Cosine similarity between {word1} and {word2}: {cos_sim:.4f}\")\n",
        "    print(f\"Euclidean distance between {word1} and {word2}: {euc_dist:.4f}\")\n",
        "    print()\n",
        "\n",
        "# Biased examples\n",
        "compare_words(\"man\", \"engineer\")\n",
        "compare_words(\"woman\", \"engineer\")\n",
        "compare_words(\"man\", \"nurse\")\n",
        "compare_words(\"woman\", \"nurse\")\n",
        "\n",
        "# Unbiased examples\n",
        "compare_words(\"cat\", \"pet\")\n",
        "compare_words(\"dog\", \"pet\")\n",
        "\n",
        "# Additional comparisons\n",
        "compare_words(\"man\", \"woman\")\n",
        "compare_words(\"father\", \"mother\")\n",
        "compare_words(\"cleaning\", \"driving\")"
      ],
      "metadata": {
        "colab": {
          "base_uri": "https://localhost:8080/"
        },
        "id": "5vhCtpyVGSC8",
        "outputId": "256b8a45-a4d7-4902-eefa-18a222ec1ff1"
      },
      "execution_count": null,
      "outputs": [
        {
          "output_type": "stream",
          "name": "stdout",
          "text": [
            "Cosine similarity between man and engineer: 0.8321\n",
            "Euclidean distance between man and engineer: 1.1180\n",
            "\n",
            "Cosine similarity between woman and engineer: -0.8321\n",
            "Euclidean distance between woman and engineer: 2.6926\n",
            "\n",
            "Cosine similarity between man and nurse: -0.4472\n",
            "Euclidean distance between man and nurse: 1.8028\n",
            "\n",
            "Cosine similarity between woman and nurse: 0.4472\n",
            "Euclidean distance between woman and nurse: 1.1180\n",
            "\n",
            "Cosine similarity between cat and pet: 1.0000\n",
            "Euclidean distance between cat and pet: 0.1000\n",
            "\n",
            "Cosine similarity between dog and pet: 1.0000\n",
            "Euclidean distance between dog and pet: 0.1000\n",
            "\n",
            "Cosine similarity between man and woman: -1.0000\n",
            "Euclidean distance between man and woman: 2.0000\n",
            "\n",
            "Cosine similarity between father and mother: 0.6000\n",
            "Euclidean distance between father and mother: 4.0000\n",
            "\n",
            "Cosine similarity between cleaning and driving: -1.0000\n",
            "Euclidean distance between cleaning and driving: 5.0000\n",
            "\n"
          ]
        }
      ]
    },
    {
      "cell_type": "markdown",
      "source": [
        "## Task 3: Get familiar with Word Analogy task\n",
        "\n",
        "Word analogy can be used as a task to detect bias in word vectors. In a word analogy task, we complete the sentence \"a is to b as c is to ____\". An example is 'man is to woman as king is to queen'. A biased example would be a 'man is to engineer as woman is to\n",
        "homemaker'.\n",
        "\n",
        "\n",
        "In detail, we are trying to find a word, such that the associated word vectors v1, v2, v3, v4 are related in the following manner: v2-v1 ~= v4-v3. We will measure the similarity between v2-v1 and v4-v3 using cosine similarity.\n",
        "\n",
        "🎯 The goal is to get familiar with the word analogy task and provide examples. You should use the read_glove_vecs and cosine_similarity functions from the previous exercises.\n",
        "\n",
        "\n",
        "Deliverables: Provide 2 examples of analogy pairs that can be considered gender bias and the algorithm doesn't give an expected answer, and 2 examples where the analogy is correct.\n",
        "\n"
      ],
      "metadata": {
        "id": "carYfOJwKZQJ"
      }
    },
    {
      "cell_type": "markdown",
      "source": [
        "This is the code for computing word analogy given three words (word_a, word_b, word_c), or for example ('man', 'father', 'woman'), the following code find the word vector of a word that completes the analogy. In this example the word vector we expect is 'mother'."
      ],
      "metadata": {
        "id": "dBbcyxv0Pm0b"
      }
    },
    {
      "cell_type": "markdown",
      "source": [],
      "metadata": {
        "id": "wiLOMC6SNQth"
      }
    },
    {
      "cell_type": "code",
      "source": [
        "def cosine_similarity(u, v):\n",
        "    return np.dot(u, v) / (np.linalg.norm(u) * np.linalg.norm(v))\n",
        "\n",
        "\n",
        "def complete_analogy(word_a, word_b, word_c, word_to_vec_map):\n",
        "    word_vectors = word_to_vec_map('')  # Get the entire dictionary of word vectors\n",
        "    words = word_vectors.keys()\n",
        "    max_cosine_sim = -100\n",
        "    best_word = None\n",
        "\n",
        "    word_a, word_b, word_c = word_a.lower(), word_b.lower(), word_c.lower()\n",
        "\n",
        "    e_a, e_b, e_c = word_vectors[word_a], word_vectors[word_b], word_vectors[word_c]\n",
        "\n",
        "    for w in words:\n",
        "        if w in [word_a, word_b, word_c]:\n",
        "            continue\n",
        "\n",
        "        e_w = word_vectors[w]\n",
        "        cosine_sim = cosine_similarity(e_b - e_a, e_w - e_c)\n",
        "\n",
        "        if cosine_sim > max_cosine_sim:\n",
        "            max_cosine_sim = cosine_sim\n",
        "            best_word = w\n",
        "\n",
        "    return best_word\n",
        "\n",
        "def word_to_vec_map(word):\n",
        "    word_vectors = {\n",
        "        \"man\": np.array([1, 0, 0]),\n",
        "        \"woman\": np.array([-1, 0, 0]),\n",
        "        \"king\": np.array([1, 1, 0]),\n",
        "        \"queen\": np.array([-1, 1, 0]),\n",
        "        \"boy\": np.array([1, -1, 0]),\n",
        "        \"girl\": np.array([-1, -1, 0]),\n",
        "        \"father\": np.array([1, 0, 1]),\n",
        "        \"mother\": np.array([-1, 0, 1]),\n",
        "        \"doctor\": np.array([0.5, 1, 1]),\n",
        "        \"nurse\": np.array([0, 1, 1]),\n",
        "        \"engineer\": np.array([0.5, 1, -1]),\n",
        "        \"teacher\": np.array([0, 1, -1]),\n",
        "        \"programmer\": np.array([0.5, 1, -0.5]),\n",
        "        \"homemaker\": np.array([-0.5, -1, 1]),\n",
        "        \"businessman\": np.array([0.5, 1, 0.5]),\n",
        "        \"businesswoman\": np.array([-0.5, 1, 0.5]),\n",
        "    }\n",
        "    if word == '':\n",
        "        return word_vectors\n",
        "    return word_vectors.get(word.lower(), np.zeros(3))"
      ],
      "metadata": {
        "id": "G4u9i_yyLrc4"
      },
      "execution_count": null,
      "outputs": []
    },
    {
      "cell_type": "markdown",
      "source": [
        "Here is an example of how we could use the code above:"
      ],
      "metadata": {
        "id": "lkrg9KEfR-RO"
      }
    },
    {
      "cell_type": "code",
      "source": [
        "triads_to_try = [('man', 'father', 'woman'), ('man', 'doctor', 'woman'), ('father', 'businessman', 'mother'), ('man', 'engineer', 'woman')]\n",
        "for triad in triads_to_try:\n",
        "    print ('{} -> {} :: {} -> {}'.format( *triad, complete_analogy(*triad,word_to_vec_map)))"
      ],
      "metadata": {
        "id": "k6MwD7Z6ME4D",
        "colab": {
          "base_uri": "https://localhost:8080/"
        },
        "outputId": "fde55974-5b65-43d2-87e0-4a77136d0e76"
      },
      "execution_count": null,
      "outputs": [
        {
          "output_type": "stream",
          "name": "stdout",
          "text": [
            "man -> father :: woman -> mother\n",
            "man -> doctor :: woman -> businesswoman\n",
            "father -> businessman :: mother -> queen\n",
            "man -> engineer :: woman -> queen\n"
          ]
        }
      ]
    },
    {
      "cell_type": "markdown",
      "source": [
        "As part of this task you need to find some other analogy pairs that do work, but also find some where the algorithm doesn't give the right answer."
      ],
      "metadata": {
        "id": "ImVv7INNNN0k"
      }
    },
    {
      "cell_type": "code",
      "source": [
        "print(\"Examples that should work well:\")\n",
        "triads_to_try = [('man', 'king', 'woman'), ('boy', 'man', 'girl'), ('man', 'father', 'woman'), ('king', 'queen', 'man')]\n",
        "for triad in triads_to_try:\n",
        "    print('{} -> {} :: {} -> {}'.format(*triad, complete_analogy(*triad, word_to_vec_map)))\n",
        "\n",
        "print(\"\\nExamples that might show bias:\")\n",
        "triads_to_try = [('man', 'doctor', 'woman'), ('father', 'businessman', 'mother'), ('man', 'engineer', 'woman'), ('man', 'programmer', 'woman')]\n",
        "for triad in triads_to_try:\n",
        "    print('{} -> {} :: {} -> {}'.format(*triad, complete_analogy(*triad, word_to_vec_map)))"
      ],
      "metadata": {
        "id": "j6lH1aVqOZaQ",
        "colab": {
          "base_uri": "https://localhost:8080/"
        },
        "outputId": "6bba67c8-fad4-4605-b47a-307e971e8965"
      },
      "execution_count": null,
      "outputs": [
        {
          "output_type": "stream",
          "name": "stdout",
          "text": [
            "Examples that should work well:\n",
            "man -> king :: woman -> queen\n",
            "boy -> man :: girl -> woman\n",
            "man -> father :: woman -> mother\n",
            "king -> queen :: man -> woman\n",
            "\n",
            "Examples that might show bias:\n",
            "man -> doctor :: woman -> businesswoman\n",
            "father -> businessman :: mother -> queen\n",
            "man -> engineer :: woman -> queen\n",
            "man -> programmer :: woman -> queen\n"
          ]
        }
      ]
    }
  ]
}